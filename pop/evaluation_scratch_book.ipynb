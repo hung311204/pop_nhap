{
 "cells": [
  {
   "cell_type": "markdown",
   "id": "4efbb48b",
   "metadata": {},
   "source": [
    "# Evaluation Scratch Book\n",
    "Experiments and stuff to be later removed."
   ]
  },
  {
   "cell_type": "markdown",
   "id": "d35358ad",
   "metadata": {},
   "source": [
    "## Imports"
   ]
  },
  {
   "cell_type": "code",
   "execution_count": 152,
   "id": "e7325f0d",
   "metadata": {},
   "outputs": [],
   "source": [
    "import grid2op\n",
    "from grid2op.utils import ScoreL2RPN2022\n",
    "from grid2op.Agent import DoNothingAgent\n",
    "import pandas as pd\n",
    "from pathlib import Path\n",
    "import torch as th\n",
    "import os\n",
    "import numpy as np"
   ]
  },
  {
   "cell_type": "markdown",
   "id": "5d2e39d8",
   "metadata": {},
   "source": [
    "## Settings"
   ]
  },
  {
   "cell_type": "code",
   "execution_count": 153,
   "id": "f62117c9",
   "metadata": {},
   "outputs": [],
   "source": [
    "env_name = \"rte_case14_realistic_val10\"\n",
    "difficulty = 1\n",
    "episodes = 10\n",
    "save_path = \"/home/l2rpn/data/evaluation/dpop_rte_very_small\"\n",
    "processes = 14"
   ]
  },
  {
   "cell_type": "markdown",
   "id": "5315c5ec",
   "metadata": {},
   "source": [
    "## Initialization"
   ]
  },
  {
   "cell_type": "markdown",
   "id": "0129c2b8",
   "metadata": {},
   "source": [
    "### Environment"
   ]
  },
  {
   "cell_type": "code",
   "execution_count": 155,
   "id": "08bc494a",
   "metadata": {},
   "outputs": [],
   "source": [
    "env = grid2op.make(env_name, difficulty=difficulty)"
   ]
  },
  {
   "cell_type": "markdown",
   "id": "a2d6fb3b",
   "metadata": {},
   "source": [
    "### Load Checkpoint\n",
    "Torch needs the same directory structure to reload the checkpoint so chdir is necessary to reload the checkpoint correctly"
   ]
  },
  {
   "cell_type": "code",
   "execution_count": 156,
   "id": "f7a696f0",
   "metadata": {},
   "outputs": [],
   "source": [
    "os.chdir(\"/home/l2rpn/pop/pop\") \n",
    "checkpoint = th.load(\"/home/l2rpn/data/checkpoint/dpop_rte_1e5_very_small/dpop_rte_1e5_very_small_50.pt\")"
   ]
  },
  {
   "cell_type": "code",
   "execution_count": 158,
   "id": "15f25bfe",
   "metadata": {},
   "outputs": [],
   "source": [
    "checkpoint[\"architecture\"][\"pop\"][\"disabled_action_loops_length\"] = 1"
   ]
  },
  {
   "cell_type": "markdown",
   "id": "8f3652b0",
   "metadata": {},
   "source": [
    "#### Fix Legacy Checkpoints\n",
    "Add exploration method to legacy checkpoints"
   ]
  },
  {
   "cell_type": "code",
   "execution_count": 127,
   "id": "b650722a",
   "metadata": {},
   "outputs": [
    {
     "data": {
      "text/plain": [
       "{'embedding': {'layers': [{'name': 'attention1',\n",
       "    'type': 'EGATConv',\n",
       "    'module': 'dgl',\n",
       "    'kwargs': {'type': 'EGATConv',\n",
       "     'in_node_feats': '<node_features>',\n",
       "     'in_edge_feats': '<edge_features>',\n",
       "     'out_node_feats': '8',\n",
       "     'out_edge_feats': '8',\n",
       "     'num_heads': 2,\n",
       "     'bias': True}},\n",
       "   {'name': 'flatten1',\n",
       "    'type': 'EGATFlatten',\n",
       "    'module': 'custom_layers',\n",
       "    'kwargs': {'type': 'EGATFlatten'}},\n",
       "   {'name': 'conv',\n",
       "    'type': 'EGATNodeConv',\n",
       "    'module': 'pop.graph_convolutional_networks.custom_layers',\n",
       "    'kwargs': {'type': 'EGATNodeConv',\n",
       "     'in_feats': array(16, dtype=int32),\n",
       "     'out_feats': '32',\n",
       "     'bias': True,\n",
       "     'weight': True,\n",
       "     'allow_zero_in_degree': True}}]},\n",
       " 'advantage_stream': {'layers': [{'name': 'linear1',\n",
       "    'type': 'Linear',\n",
       "    'module': 'pytorch',\n",
       "    'kwargs': {'type': 'Linear',\n",
       "     'in_features': '<embedding_size>',\n",
       "     'out_features': 16,\n",
       "     'bias': True}},\n",
       "   {'name': 'activation1',\n",
       "    'type': 'ReLU',\n",
       "    'module': 'pytorch',\n",
       "    'kwargs': {'type': 'ReLU'}},\n",
       "   {'name': 'linear2',\n",
       "    'type': 'Linear',\n",
       "    'module': 'pytorch',\n",
       "    'kwargs': {'type': 'Linear',\n",
       "     'in_features': array(16, dtype=int32),\n",
       "     'out_features': '<action_space_size>'}}]},\n",
       " 'value_stream': {'layers': [{'name': 'linear1',\n",
       "    'type': 'Linear',\n",
       "    'module': 'pytorch',\n",
       "    'kwargs': {'type': 'Linear',\n",
       "     'in_features': '<embedding_size>',\n",
       "     'out_features': 16,\n",
       "     'bias': True}},\n",
       "   {'name': 'activation1',\n",
       "    'type': 'ReLU',\n",
       "    'module': 'pytorch',\n",
       "    'kwargs': {'type': 'ReLU'}},\n",
       "   {'name': 'linear2',\n",
       "    'type': 'Linear',\n",
       "    'module': 'pytorch',\n",
       "    'kwargs': {'type': 'Linear',\n",
       "     'in_features': array(16, dtype=int32),\n",
       "     'out_features': 1}}]},\n",
       " 'exploration': {'max_epsilon': 1.0,\n",
       "  'min_epsilon': 0.01,\n",
       "  'epsilon_decay': 200,\n",
       "  'method': 'epsilon_greedy'},\n",
       " 'replay_memory': {'alpha': 0.5,\n",
       "  'max_beta': 1.0,\n",
       "  'min_beta': 0.0,\n",
       "  'beta_decay': 200,\n",
       "  'capacity': 1000},\n",
       " 'learning_rate': 0.01,\n",
       " 'learning_frequency': 4,\n",
       " 'target_network_weight_replace_steps': 500,\n",
       " 'gamma': 0.99,\n",
       " 'huber_loss_delta': 1.0,\n",
       " 'batch_size': 288}"
      ]
     },
     "execution_count": 127,
     "metadata": {},
     "output_type": "execute_result"
    }
   ],
   "source": [
    "checkpoint[\"architecture\"][\"agent\"]"
   ]
  },
  {
   "cell_type": "code",
   "execution_count": 93,
   "id": "1802e776",
   "metadata": {},
   "outputs": [],
   "source": [
    "checkpoint[\"architecture\"][\"agent\"][\"exploration\"][\"method\"]=\"epsilon_greedy\"\n",
    "checkpoint[\"architecture\"][\"manager\"][\"exploration\"][\"method\"]=\"epsilon_greedy\"\n",
    "checbkpoint[\"architecture\"][\"head_manager\"][\"exploration\"][\"method\"]=\"epsilon_greedy\""
   ]
  },
  {
   "cell_type": "code",
   "execution_count": 132,
   "id": "f88f6a68",
   "metadata": {},
   "outputs": [],
   "source": [
    "def _exponential_decay(decay_steps: int, max_val: float, min_val: float, decay: int) -> float:\n",
    "    return min_val + (max_val - min_val) * np.exp(-1.0 * decay_steps / decay)\n"
   ]
  },
  {
   "cell_type": "code",
   "execution_count": 134,
   "id": "5f9ed2aa",
   "metadata": {},
   "outputs": [
    {
     "data": {
      "text/plain": [
       "{'decay_steps': 53843}"
      ]
     },
     "execution_count": 134,
     "metadata": {},
     "output_type": "execute_result"
    }
   ],
   "source": [
    "for agent in list(checkpoint[\"agents_state\"].keys()):\n",
    "    cur_agent = checkpoint[\"agents_state\"][agent]\n",
    "    if cur_agent.get(\"architecture\"):\n",
    "        cur_agent[\"architecture\"][\"exploration\"][\"method\"] = \"epsilon_greedy\"\n",
    "        cur_agent[\"exploration\"]= {}\n",
    "        cur_agent[\"exploration\"][\"decay_steps\"] = cur_agent[\"decay_steps\"]    \n",
    "        cur_agent_mem = cur_agent[\"memory\"]\n",
    "        del cur_agent_mem[\"capacity\"]\n",
    "        del cur_agent_mem[\"alpha\"]\n",
    "        cur_agent_mem[\"architecture\"] = checkpoint[\"architecture\"][\"agent\"][\"replay_memory\"]\n",
    "        cur_agent_mem[\"beta\"] = _exponential_decay(cur_agent[\"decay_steps\"], cur_agent_mem[\"architecture\"][\"max_beta\"], cur_agent_mem[\"architecture\"][\"min_beta\"], cur_agent_mem[\"architecture\"][\"beta_decay\"])\n",
    "checkpoint[\"agents_state\"][2][\"architecture\"][\"exploration\"]\n",
    "checkpoint[\"agents_state\"][2][\"exploration\"]\n"
   ]
  },
  {
   "cell_type": "code",
   "execution_count": 137,
   "id": "c75fd228",
   "metadata": {},
   "outputs": [
    {
     "data": {
      "text/plain": [
       "{'decay_steps': 0}"
      ]
     },
     "execution_count": 137,
     "metadata": {},
     "output_type": "execute_result"
    }
   ],
   "source": [
    "for manager in list(checkpoint[\"managers_state\"].keys()):\n",
    "        cur_manager = checkpoint[\"managers_state\"][manager][0]\n",
    "        cur_manager[\"architecture\"][\"exploration\"][\"method\"] = \"epsilon_greedy\"\n",
    "        cur_manager[\"exploration\"]= {}\n",
    "        cur_manager[\"exploration\"][\"decay_steps\"] = cur_manager[\"decay_steps\"]    \n",
    "        cur_agent_mem = cur_manager[\"memory\"]\n",
    "        del cur_agent_mem[\"capacity\"]\n",
    "        del cur_agent_mem[\"alpha\"]\n",
    "        cur_agent_mem[\"architecture\"] = checkpoint[\"architecture\"][\"manager\"][\"replay_memory\"]\n",
    "        cur_agent_mem[\"beta\"] = _exponential_decay(cur_manager[\"decay_steps\"], cur_agent_mem[\"architecture\"][\"max_beta\"], cur_agent_mem[\"architecture\"][\"min_beta\"], cur_agent_mem[\"architecture\"][\"beta_decay\"])\n",
    "\n",
    "checkpoint[\"managers_state\"][next(iter(checkpoint[\"managers_state\"].keys()))][0][\"architecture\"][\"exploration\"]\n",
    "checkpoint[\"managers_state\"][list(checkpoint[\"managers_state\"].keys())[4]][0][\"exploration\"]"
   ]
  },
  {
   "cell_type": "code",
   "execution_count": 138,
   "id": "a37a7e56",
   "metadata": {},
   "outputs": [
    {
     "data": {
      "text/plain": [
       "{'decay_steps': 99644}"
      ]
     },
     "execution_count": 138,
     "metadata": {},
     "output_type": "execute_result"
    }
   ],
   "source": [
    "checkpoint[\"head_manager_state\"][\"architecture\"][\"exploration\"][\"method\"] = \"epsilon_greedy\"\n",
    "checkpoint[\"head_manager_state\"][\"exploration\"]= {}\n",
    "checkpoint[\"head_manager_state\"][\"exploration\"][\"decay_steps\"] = checkpoint[\"head_manager_state\"][\"decay_steps\"]    \n",
    "cur_agent_mem = checkpoint[\"head_manager_state\"][\"memory\"]\n",
    "del cur_agent_mem[\"capacity\"]\n",
    "del cur_agent_mem[\"alpha\"]\n",
    "cur_agent_mem[\"architecture\"] = checkpoint[\"architecture\"][\"head_manager\"][\"replay_memory\"]\n",
    "cur_agent_mem[\"beta\"] = _exponential_decay(cur_manager[\"decay_steps\"], cur_agent_mem[\"architecture\"][\"max_beta\"], cur_agent_mem[\"architecture\"][\"min_beta\"], cur_agent_mem[\"architecture\"][\"beta_decay\"])\n",
    "\n",
    "checkpoint[\"head_manager_state\"][\"architecture\"][\"exploration\"]\n",
    "checkpoint[\"head_manager_state\"][\"exploration\"]"
   ]
  },
  {
   "cell_type": "code",
   "execution_count": 159,
   "id": "164dc12f",
   "metadata": {},
   "outputs": [],
   "source": [
    "os.chdir(\"/home/l2rpn/pop/pop\") \n",
    "th.save(checkpoint, \"/home/l2rpn/data/checkpoint/dpop_rte_1e5_very_small/dpop_rte_1e5_very_small_51.pt\")"
   ]
  },
  {
   "cell_type": "code",
   "execution_count": 102,
   "id": "df795072",
   "metadata": {},
   "outputs": [
    {
     "data": {
      "text/plain": [
       "{'decay_steps': 42139}"
      ]
     },
     "execution_count": 102,
     "metadata": {},
     "output_type": "execute_result"
    }
   ],
   "source": []
  },
  {
   "cell_type": "markdown",
   "id": "792a0ba7",
   "metadata": {},
   "source": [
    "### Do Nothing Agent"
   ]
  },
  {
   "cell_type": "code",
   "execution_count": 28,
   "id": "d0665ad9",
   "metadata": {},
   "outputs": [],
   "source": [
    "agent = DoNothingAgent(env.action_space)"
   ]
  },
  {
   "cell_type": "markdown",
   "id": "8f298094",
   "metadata": {},
   "source": [
    "## Score Computation"
   ]
  },
  {
   "cell_type": "code",
   "execution_count": 29,
   "id": "b93b4f80",
   "metadata": {},
   "outputs": [],
   "source": [
    "score = ScoreL2RPN2022(env,nb_scenario=episodes, verbose=1)"
   ]
  },
  {
   "cell_type": "code",
   "execution_count": 30,
   "id": "208b0a56",
   "metadata": {},
   "outputs": [
    {
     "name": "stdout",
     "output_type": "stream",
     "text": [
      "Starts the evaluation of the agent\n",
      "Start the evaluation of the scores\n"
     ]
    }
   ],
   "source": [
    "agent_score = score.get(agent, nb_process = processes)\n",
    "agent_score_df = pd.DataFrame(agent_score).transpose()\n",
    "agent_score_df.columns = [\"all_scores\", \"ts_survived\", \"total_ts\"]"
   ]
  },
  {
   "cell_type": "code",
   "execution_count": 31,
   "id": "e2f09b62",
   "metadata": {},
   "outputs": [
    {
     "data": {
      "text/html": [
       "<div>\n",
       "<style scoped>\n",
       "    .dataframe tbody tr th:only-of-type {\n",
       "        vertical-align: middle;\n",
       "    }\n",
       "\n",
       "    .dataframe tbody tr th {\n",
       "        vertical-align: top;\n",
       "    }\n",
       "\n",
       "    .dataframe thead th {\n",
       "        text-align: right;\n",
       "    }\n",
       "</style>\n",
       "<table border=\"1\" class=\"dataframe\">\n",
       "  <thead>\n",
       "    <tr style=\"text-align: right;\">\n",
       "      <th></th>\n",
       "      <th>all_scores</th>\n",
       "      <th>ts_survived</th>\n",
       "      <th>total_ts</th>\n",
       "    </tr>\n",
       "  </thead>\n",
       "  <tbody>\n",
       "    <tr>\n",
       "      <th>0</th>\n",
       "      <td>0.0</td>\n",
       "      <td>1097.0</td>\n",
       "      <td>8064.0</td>\n",
       "    </tr>\n",
       "    <tr>\n",
       "      <th>1</th>\n",
       "      <td>0.0</td>\n",
       "      <td>3399.0</td>\n",
       "      <td>8064.0</td>\n",
       "    </tr>\n",
       "    <tr>\n",
       "      <th>2</th>\n",
       "      <td>0.0</td>\n",
       "      <td>1099.0</td>\n",
       "      <td>8064.0</td>\n",
       "    </tr>\n",
       "    <tr>\n",
       "      <th>3</th>\n",
       "      <td>0.0</td>\n",
       "      <td>377.0</td>\n",
       "      <td>8064.0</td>\n",
       "    </tr>\n",
       "    <tr>\n",
       "      <th>4</th>\n",
       "      <td>0.0</td>\n",
       "      <td>809.0</td>\n",
       "      <td>8064.0</td>\n",
       "    </tr>\n",
       "    <tr>\n",
       "      <th>...</th>\n",
       "      <td>...</td>\n",
       "      <td>...</td>\n",
       "      <td>...</td>\n",
       "    </tr>\n",
       "    <tr>\n",
       "      <th>95</th>\n",
       "      <td>0.0</td>\n",
       "      <td>521.0</td>\n",
       "      <td>8064.0</td>\n",
       "    </tr>\n",
       "    <tr>\n",
       "      <th>96</th>\n",
       "      <td>0.0</td>\n",
       "      <td>511.0</td>\n",
       "      <td>8064.0</td>\n",
       "    </tr>\n",
       "    <tr>\n",
       "      <th>97</th>\n",
       "      <td>0.0</td>\n",
       "      <td>1102.0</td>\n",
       "      <td>8064.0</td>\n",
       "    </tr>\n",
       "    <tr>\n",
       "      <th>98</th>\n",
       "      <td>0.0</td>\n",
       "      <td>522.0</td>\n",
       "      <td>8064.0</td>\n",
       "    </tr>\n",
       "    <tr>\n",
       "      <th>99</th>\n",
       "      <td>0.0</td>\n",
       "      <td>387.0</td>\n",
       "      <td>8064.0</td>\n",
       "    </tr>\n",
       "  </tbody>\n",
       "</table>\n",
       "<p>100 rows × 3 columns</p>\n",
       "</div>"
      ],
      "text/plain": [
       "    all_scores  ts_survived  total_ts\n",
       "0          0.0       1097.0    8064.0\n",
       "1          0.0       3399.0    8064.0\n",
       "2          0.0       1099.0    8064.0\n",
       "3          0.0        377.0    8064.0\n",
       "4          0.0        809.0    8064.0\n",
       "..         ...          ...       ...\n",
       "95         0.0        521.0    8064.0\n",
       "96         0.0        511.0    8064.0\n",
       "97         0.0       1102.0    8064.0\n",
       "98         0.0        522.0    8064.0\n",
       "99         0.0        387.0    8064.0\n",
       "\n",
       "[100 rows x 3 columns]"
      ]
     },
     "execution_count": 31,
     "metadata": {},
     "output_type": "execute_result"
    }
   ],
   "source": [
    "agent_score_df"
   ]
  },
  {
   "cell_type": "code",
   "execution_count": 32,
   "id": "eca99ef6",
   "metadata": {},
   "outputs": [],
   "source": [
    "agent_score_df.to_csv(Path(save_path, \"l2rpn_2022_score_\" + str(difficulty) + \".csv\"))"
   ]
  },
  {
   "cell_type": "markdown",
   "id": "fc5ea8ba",
   "metadata": {},
   "source": [
    "## Score Evaluation"
   ]
  },
  {
   "cell_type": "code",
   "execution_count": 3,
   "id": "26f3fde7",
   "metadata": {},
   "outputs": [
    {
     "ename": "SyntaxError",
     "evalue": "invalid syntax (2684874982.py, line 2)",
     "output_type": "error",
     "traceback": [
      "\u001b[0;36m  Input \u001b[0;32mIn [3]\u001b[0;36m\u001b[0m\n\u001b[0;31m    d for d in [0, 1, 2, \"competition\"]:\u001b[0m\n\u001b[0m      ^\u001b[0m\n\u001b[0;31mSyntaxError\u001b[0m\u001b[0;31m:\u001b[0m invalid syntax\n"
     ]
    }
   ],
   "source": [
    "scores = []\n",
    "d for d in [0, 1, 2, \"competition\"]:\n",
    "    scores.append(pd.load_csv(Path(save_path, \"l2rpn_2022_score_\" + str(d) + \".csv\")))"
   ]
  }
 ],
 "metadata": {
  "kernelspec": {
   "display_name": "Python 3 (ipykernel)",
   "language": "python",
   "name": "python3"
  },
  "language_info": {
   "codemirror_mode": {
    "name": "ipython",
    "version": 3
   },
   "file_extension": ".py",
   "mimetype": "text/x-python",
   "name": "python",
   "nbconvert_exporter": "python",
   "pygments_lexer": "ipython3",
   "version": "3.8.10"
  }
 },
 "nbformat": 4,
 "nbformat_minor": 5
}
