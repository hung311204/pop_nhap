{
 "cells": [
  {
   "cell_type": "code",
   "execution_count": 1,
   "metadata": {},
   "outputs": [],
   "source": [
    "import wandb\n",
    "import pandas as pd\n",
    "import matplotlib.pyplot as plt\n",
    "\n",
    "# Initialize the wandb API\n",
    "api = wandb.Api()\n",
    "\n",
    "# Replace with your specific wandb project and entity (user/organization)\n",
    "project_name = 'TOPGrid_MORL_5bus'\n",
    "  # List of tags to filter for\n",
    "\n",
    "# Fetch all runs from the specified project\n",
    "runs = api.runs(f\"{project_name}\")\n",
    "\n",
    "# Filter runs based on tags\n",
    "\n",
    "\n",
    "# Collect the reward data from each filtered run\n",
    "all_rewards = []\n",
    "\n",
    "for run in runs:\n",
    "    # Fetch the logged metrics dataframe\n",
    "    metrics_df = run.history(keys=[\"reward\"])\n",
    "\n",
    "    # Extract the reward column (or whatever metric you are interested in)\n",
    "    if \"reward\" in metrics_df:\n",
    "        all_rewards.extend(metrics_df[\"reward\"].dropna().values)\n",
    "\n",
    "# Convert the list of rewards to a DataFrame for analysis\n",
    "rewards_df = pd.DataFrame(all_rewards, columns=[\"reward\"])\n",
    "\n",
    "\n",
    "\n",
    "\n"
   ]
  },
  {
   "cell_type": "code",
   "execution_count": 2,
   "metadata": {},
   "outputs": [
    {
     "data": {
      "text/html": [
       "<div>\n",
       "<style scoped>\n",
       "    .dataframe tbody tr th:only-of-type {\n",
       "        vertical-align: middle;\n",
       "    }\n",
       "\n",
       "    .dataframe tbody tr th {\n",
       "        vertical-align: top;\n",
       "    }\n",
       "\n",
       "    .dataframe thead th {\n",
       "        text-align: right;\n",
       "    }\n",
       "</style>\n",
       "<table border=\"1\" class=\"dataframe\">\n",
       "  <thead>\n",
       "    <tr style=\"text-align: right;\">\n",
       "      <th></th>\n",
       "      <th>reward</th>\n",
       "    </tr>\n",
       "  </thead>\n",
       "  <tbody>\n",
       "  </tbody>\n",
       "</table>\n",
       "</div>"
      ],
      "text/plain": [
       "Empty DataFrame\n",
       "Columns: [reward]\n",
       "Index: []"
      ]
     },
     "execution_count": 2,
     "metadata": {},
     "output_type": "execute_result"
    }
   ],
   "source": [
    "rewards_df"
   ]
  },
  {
   "cell_type": "code",
   "execution_count": null,
   "metadata": {},
   "outputs": [],
   "source": [
    "# Analyze the rewards (example: plotting the reward distribution)\n",
    "plt.hist(rewards_df[\"reward\"], bins=50, alpha=0.75)\n",
    "plt.xlabel('Reward')\n",
    "plt.ylabel('Frequency')\n",
    "plt.title('Distribution of Rewards for Filtered Runs')\n",
    "plt.show()"
   ]
  },
  {
   "cell_type": "code",
   "execution_count": 26,
   "metadata": {},
   "outputs": [],
   "source": [
    "import numpy as np\n",
    "import os\n",
    "\n",
    "script_dir = os.path.dirname(os.getcwd())\n",
    "training_rewards_path = os.path.join(script_dir, \"training_rewards_42.npy\")\n",
    "evaluation_rewards_path = os.path.join(script_dir, \"evaluation_rewards.npy\")\n",
    "training_rewards = np.load(training_rewards_path)"
   ]
  },
  {
   "cell_type": "code",
   "execution_count": 27,
   "metadata": {},
   "outputs": [],
   "source": [
    "import matplotlib.pyplot as plt"
   ]
  },
  {
   "cell_type": "code",
   "execution_count": 28,
   "metadata": {},
   "outputs": [],
   "source": [
    "import pandas as pd"
   ]
  },
  {
   "cell_type": "code",
   "execution_count": 29,
   "metadata": {},
   "outputs": [],
   "source": [
    "df = pd.DataFrame(training_rewards)"
   ]
  },
  {
   "cell_type": "code",
   "execution_count": 30,
   "metadata": {},
   "outputs": [
    {
     "data": {
      "text/plain": [
       "array([[ 0.00000000e+00,  6.84731794e+01, -8.90000000e+00],\n",
       "       [ 0.00000000e+00,  6.76607192e-01, -1.00000000e-01],\n",
       "       [ 4.51388889e-02,  0.00000000e+00, -1.00000000e+00],\n",
       "       [ 0.00000000e+00,  4.15782690e-01, -1.00000000e-01],\n",
       "       [ 0.00000000e+00,  4.09993410e-01, -1.00000000e-01],\n",
       "       [ 0.00000000e+00,  4.00002819e+01, -8.50000000e+00],\n",
       "       [ 0.00000000e+00,  1.99335218e+02, -3.34000000e+01],\n",
       "       [ 0.00000000e+00,  5.97856045e-01, -1.00000000e-01],\n",
       "       [ 0.00000000e+00,  6.62945509e-01, -1.00000000e-01],\n",
       "       [ 0.00000000e+00,  8.97187701e+02, -1.26700000e+02],\n",
       "       [ 0.00000000e+00,  1.29500544e+00, -3.00000000e-01],\n",
       "       [ 0.00000000e+00,  8.45020533e-01, -2.00000000e-01],\n",
       "       [ 2.00000000e+00,  6.24464543e+02, -7.43000000e+01],\n",
       "       [ 0.00000000e+00,  2.70196765e+01, -3.70000000e+00],\n",
       "       [ 0.00000000e+00,  6.31887406e-01, -1.00000000e-01],\n",
       "       [ 0.00000000e+00,  2.74158205e+02, -3.28000000e+01]])"
      ]
     },
     "execution_count": 30,
     "metadata": {},
     "output_type": "execute_result"
    }
   ],
   "source": [
    "training_rewards"
   ]
  },
  {
   "cell_type": "code",
   "execution_count": 39,
   "metadata": {},
   "outputs": [
    {
     "data": {
      "image/png": "[encoded data removed]",
      "text/plain": [
       "<Figure size 1000x800 with 4 Axes>"
      ]
     },
     "metadata": {},
     "output_type": "display_data"
    }
   ],
   "source": [
    "# Plot boxplots for each column\n",
    "df.hist(figsize=(10, 8), grid=False)\n",
    "\n",
    "# Set common labels\n",
    "plt.title('Boxplots of DataFrame Columns')\n",
    "plt.ylabel('Value')\n",
    "\n",
    "# Show the plot\n",
    "plt.tight_layout()\n",
    "plt.show()"
   ]
  },
  {
   "cell_type": "code",
   "execution_count": 43,
   "metadata": {},
   "outputs": [
    {
     "data": {
      "text/plain": [
       "0.4993746390645183"
      ]
     },
     "execution_count": 43,
     "metadata": {},
     "output_type": "execute_result"
    }
   ],
   "source": [
    "df.std()[0]"
   ]
  },
  {
   "cell_type": "code",
   "execution_count": 42,
   "metadata": {},
   "outputs": [
    {
     "data": {
      "text/plain": [
       "0.12782118055555555"
      ]
     },
     "execution_count": 42,
     "metadata": {},
     "output_type": "execute_result"
    }
   ],
   "source": [
    "df.mean()[0]"
   ]
  },
  {
   "cell_type": "code",
   "execution_count": null,
   "metadata": {},
   "outputs": [],
   "source": []
  }
 ],
 "metadata": {
  "kernelspec": {
   "display_name": "repl",
   "language": "python",
   "name": "python3"
  },
  "language_info": {
   "codemirror_mode": {
    "name": "ipython",
    "version": 3
   },
   "file_extension": ".py",
   "mimetype": "text/x-python",
   "name": "python",
   "nbconvert_exporter": "python",
   "pygments_lexer": "ipython3",
   "version": "3.12.4"
  }
 },
 "nbformat": 4,
 "nbformat_minor": 2
}
